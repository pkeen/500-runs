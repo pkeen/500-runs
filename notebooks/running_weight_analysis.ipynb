{
 "cells": [
  {
   "cell_type": "code",
   "execution_count": 19,
   "id": "f8ad6649",
   "metadata": {},
   "outputs": [],
   "source": [
    "import pandas as pd\n",
    "import os\n",
    "import sys\n",
    "sys.path.append(os.path.abspath(os.path.join(os.getcwd(), '..')))\n",
    "from src.notion_data_cleaning import clean_notion_weight_data\n",
    "from src.myfitness_weight_cleaning import clean_myfitness_weight_data\n",
    "from src.merge_weight_data import merge_weight_data"
   ]
  },
  {
   "cell_type": "code",
   "execution_count": 26,
   "id": "0f159e1f",
   "metadata": {},
   "outputs": [
    {
     "data": {
      "text/plain": [
       "(199, 2)"
      ]
     },
     "execution_count": 26,
     "metadata": {},
     "output_type": "execute_result"
    }
   ],
   "source": [
    "# Clean Notion and myfitnesspal weight data\n",
    "notion_weights = pd.read_csv(\"../data/notion-weight-tracking-raw.csv\")\n",
    "myfitness_weights = pd.read_csv('../data/myfitnesspal-weight.csv')\n",
    "\n",
    "notion_weights = clean_notion_weight_data(notion_weights)\n",
    "myfitness_weights = clean_myfitness_weight_data(myfitness_weights)\n",
    "\n",
    "# Merge the datasets\n",
    "combined_weights = merge_weight_data(notion_weights, myfitness_weights)\n",
    "\n",
    "combined_weights.shape\n"
   ]
  }
 ],
 "metadata": {
  "kernelspec": {
   "display_name": "stats-env",
   "language": "python",
   "name": "python3"
  },
  "language_info": {
   "codemirror_mode": {
    "name": "ipython",
    "version": 3
   },
   "file_extension": ".py",
   "mimetype": "text/x-python",
   "name": "python",
   "nbconvert_exporter": "python",
   "pygments_lexer": "ipython3",
   "version": "3.11.11"
  }
 },
 "nbformat": 4,
 "nbformat_minor": 5
}
